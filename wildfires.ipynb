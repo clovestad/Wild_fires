{
 "cells": [
  {
   "cell_type": "code",
   "execution_count": 1,
   "metadata": {},
   "outputs": [],
   "source": [
    "import pandas as pd\n",
    "\n",
    "\n",
    "import sqlite3"
   ]
  },
  {
   "cell_type": "code",
   "execution_count": 2,
   "metadata": {},
   "outputs": [],
   "source": [
    "conn= sqlite3.connect('Data\\FPA_FOD_20221014.sqlite')"
   ]
  },
  {
   "cell_type": "code",
   "execution_count": 3,
   "metadata": {},
   "outputs": [
    {
     "data": {
      "text/html": [
       "<div>\n",
       "<style scoped>\n",
       "    .dataframe tbody tr th:only-of-type {\n",
       "        vertical-align: middle;\n",
       "    }\n",
       "\n",
       "    .dataframe tbody tr th {\n",
       "        vertical-align: top;\n",
       "    }\n",
       "\n",
       "    .dataframe thead th {\n",
       "        text-align: right;\n",
       "    }\n",
       "</style>\n",
       "<table border=\"1\" class=\"dataframe\">\n",
       "  <thead>\n",
       "    <tr style=\"text-align: right;\">\n",
       "      <th></th>\n",
       "      <th>name</th>\n",
       "    </tr>\n",
       "  </thead>\n",
       "  <tbody>\n",
       "    <tr>\n",
       "      <th>0</th>\n",
       "      <td>spatial_ref_sys</td>\n",
       "    </tr>\n",
       "    <tr>\n",
       "      <th>1</th>\n",
       "      <td>spatialite_history</td>\n",
       "    </tr>\n",
       "    <tr>\n",
       "      <th>2</th>\n",
       "      <td>sqlite_sequence</td>\n",
       "    </tr>\n",
       "    <tr>\n",
       "      <th>3</th>\n",
       "      <td>geometry_columns</td>\n",
       "    </tr>\n",
       "    <tr>\n",
       "      <th>4</th>\n",
       "      <td>views_geometry_columns</td>\n",
       "    </tr>\n",
       "    <tr>\n",
       "      <th>5</th>\n",
       "      <td>virts_geometry_columns</td>\n",
       "    </tr>\n",
       "    <tr>\n",
       "      <th>6</th>\n",
       "      <td>geometry_columns_statistics</td>\n",
       "    </tr>\n",
       "    <tr>\n",
       "      <th>7</th>\n",
       "      <td>views_geometry_columns_statistics</td>\n",
       "    </tr>\n",
       "    <tr>\n",
       "      <th>8</th>\n",
       "      <td>virts_geometry_columns_statistics</td>\n",
       "    </tr>\n",
       "    <tr>\n",
       "      <th>9</th>\n",
       "      <td>geometry_columns_field_infos</td>\n",
       "    </tr>\n",
       "    <tr>\n",
       "      <th>10</th>\n",
       "      <td>views_geometry_columns_field_infos</td>\n",
       "    </tr>\n",
       "    <tr>\n",
       "      <th>11</th>\n",
       "      <td>virts_geometry_columns_field_infos</td>\n",
       "    </tr>\n",
       "    <tr>\n",
       "      <th>12</th>\n",
       "      <td>geometry_columns_time</td>\n",
       "    </tr>\n",
       "    <tr>\n",
       "      <th>13</th>\n",
       "      <td>geometry_columns_auth</td>\n",
       "    </tr>\n",
       "    <tr>\n",
       "      <th>14</th>\n",
       "      <td>views_geometry_columns_auth</td>\n",
       "    </tr>\n",
       "    <tr>\n",
       "      <th>15</th>\n",
       "      <td>virts_geometry_columns_auth</td>\n",
       "    </tr>\n",
       "    <tr>\n",
       "      <th>16</th>\n",
       "      <td>sql_statements_log</td>\n",
       "    </tr>\n",
       "    <tr>\n",
       "      <th>17</th>\n",
       "      <td>SpatialIndex</td>\n",
       "    </tr>\n",
       "    <tr>\n",
       "      <th>18</th>\n",
       "      <td>NWCG_UnitIdActive_20200123</td>\n",
       "    </tr>\n",
       "    <tr>\n",
       "      <th>19</th>\n",
       "      <td>Fires</td>\n",
       "    </tr>\n",
       "    <tr>\n",
       "      <th>20</th>\n",
       "      <td>idx_Fires_Shape</td>\n",
       "    </tr>\n",
       "    <tr>\n",
       "      <th>21</th>\n",
       "      <td>idx_Fires_Shape_rowid</td>\n",
       "    </tr>\n",
       "    <tr>\n",
       "      <th>22</th>\n",
       "      <td>idx_Fires_Shape_node</td>\n",
       "    </tr>\n",
       "    <tr>\n",
       "      <th>23</th>\n",
       "      <td>idx_Fires_Shape_parent</td>\n",
       "    </tr>\n",
       "  </tbody>\n",
       "</table>\n",
       "</div>"
      ],
      "text/plain": [
       "                                  name\n",
       "0                      spatial_ref_sys\n",
       "1                   spatialite_history\n",
       "2                      sqlite_sequence\n",
       "3                     geometry_columns\n",
       "4               views_geometry_columns\n",
       "5               virts_geometry_columns\n",
       "6          geometry_columns_statistics\n",
       "7    views_geometry_columns_statistics\n",
       "8    virts_geometry_columns_statistics\n",
       "9         geometry_columns_field_infos\n",
       "10  views_geometry_columns_field_infos\n",
       "11  virts_geometry_columns_field_infos\n",
       "12               geometry_columns_time\n",
       "13               geometry_columns_auth\n",
       "14         views_geometry_columns_auth\n",
       "15         virts_geometry_columns_auth\n",
       "16                  sql_statements_log\n",
       "17                        SpatialIndex\n",
       "18          NWCG_UnitIdActive_20200123\n",
       "19                               Fires\n",
       "20                     idx_Fires_Shape\n",
       "21               idx_Fires_Shape_rowid\n",
       "22                idx_Fires_Shape_node\n",
       "23              idx_Fires_Shape_parent"
      ]
     },
     "execution_count": 3,
     "metadata": {},
     "output_type": "execute_result"
    }
   ],
   "source": [
    "# checking sqlite file structure to find out information table we want is \"fires\"\n",
    "show_tables_query = \"SELECT name FROM sqlite_master WHERE type='table';\"\n",
    "tables = pd.read_sql_query(show_tables_query, conn)\n",
    "tables"
   ]
  },
  {
   "cell_type": "code",
   "execution_count": 4,
   "metadata": {},
   "outputs": [],
   "source": [
    "# preview all columns from the fires table to see what data will be applicable for visualizations\n",
    "query=\"\"\"\n",
    "SELECT * FROM Fires\n",
    "\"\"\"\n",
    "df=pd.read_sql_query(query,conn)"
   ]
  },
  {
   "cell_type": "code",
   "execution_count": 5,
   "metadata": {},
   "outputs": [
    {
     "data": {
      "text/plain": [
       "Index(['OBJECTID', 'Shape', 'FOD_ID', 'FPA_ID', 'SOURCE_SYSTEM_TYPE',\n",
       "       'SOURCE_SYSTEM', 'NWCG_REPORTING_AGENCY', 'NWCG_REPORTING_UNIT_ID',\n",
       "       'NWCG_REPORTING_UNIT_NAME', 'SOURCE_REPORTING_UNIT',\n",
       "       'SOURCE_REPORTING_UNIT_NAME', 'LOCAL_FIRE_REPORT_ID',\n",
       "       'LOCAL_INCIDENT_ID', 'FIRE_CODE', 'FIRE_NAME',\n",
       "       'ICS_209_PLUS_INCIDENT_JOIN_ID', 'ICS_209_PLUS_COMPLEX_JOIN_ID',\n",
       "       'MTBS_ID', 'MTBS_FIRE_NAME', 'COMPLEX_NAME', 'FIRE_YEAR',\n",
       "       'DISCOVERY_DATE', 'DISCOVERY_DOY', 'DISCOVERY_TIME',\n",
       "       'NWCG_CAUSE_CLASSIFICATION', 'NWCG_GENERAL_CAUSE',\n",
       "       'NWCG_CAUSE_AGE_CATEGORY', 'CONT_DATE', 'CONT_DOY', 'CONT_TIME',\n",
       "       'FIRE_SIZE', 'FIRE_SIZE_CLASS', 'LATITUDE', 'LONGITUDE', 'OWNER_DESCR',\n",
       "       'STATE', 'COUNTY', 'FIPS_CODE', 'FIPS_NAME'],\n",
       "      dtype='object')"
      ]
     },
     "execution_count": 5,
     "metadata": {},
     "output_type": "execute_result"
    }
   ],
   "source": [
    "# explore all cols of the fire table\n",
    "df.columns"
   ]
  },
  {
   "cell_type": "code",
   "execution_count": 6,
   "metadata": {},
   "outputs": [
    {
     "data": {
      "text/html": [
       "<div>\n",
       "<style scoped>\n",
       "    .dataframe tbody tr th:only-of-type {\n",
       "        vertical-align: middle;\n",
       "    }\n",
       "\n",
       "    .dataframe tbody tr th {\n",
       "        vertical-align: top;\n",
       "    }\n",
       "\n",
       "    .dataframe thead th {\n",
       "        text-align: right;\n",
       "    }\n",
       "</style>\n",
       "<table border=\"1\" class=\"dataframe\">\n",
       "  <thead>\n",
       "    <tr style=\"text-align: right;\">\n",
       "      <th></th>\n",
       "      <th>STATE</th>\n",
       "      <th>COUNTY</th>\n",
       "      <th>FIRE_NAME</th>\n",
       "      <th>FIRE_YEAR</th>\n",
       "      <th>FIRE_SIZE</th>\n",
       "      <th>DISCOVERY_DATE</th>\n",
       "      <th>CONT_DATE</th>\n",
       "      <th>NWCG_GENERAL_CAUSE</th>\n",
       "      <th>LATITUDE</th>\n",
       "      <th>LONGITUDE</th>\n",
       "    </tr>\n",
       "  </thead>\n",
       "  <tbody>\n",
       "    <tr>\n",
       "      <th>0</th>\n",
       "      <td>CA</td>\n",
       "      <td>63</td>\n",
       "      <td>FOUNTAIN</td>\n",
       "      <td>2005</td>\n",
       "      <td>0.10</td>\n",
       "      <td>2/2/2005</td>\n",
       "      <td>2/2/2005</td>\n",
       "      <td>Power generation/transmission/distribution</td>\n",
       "      <td>40.036944</td>\n",
       "      <td>-121.005833</td>\n",
       "    </tr>\n",
       "    <tr>\n",
       "      <th>1</th>\n",
       "      <td>CA</td>\n",
       "      <td>61</td>\n",
       "      <td>PIGEON</td>\n",
       "      <td>2004</td>\n",
       "      <td>0.25</td>\n",
       "      <td>5/12/2004</td>\n",
       "      <td>5/12/2004</td>\n",
       "      <td>Natural</td>\n",
       "      <td>38.933056</td>\n",
       "      <td>-120.404444</td>\n",
       "    </tr>\n",
       "    <tr>\n",
       "      <th>2</th>\n",
       "      <td>CA</td>\n",
       "      <td>17</td>\n",
       "      <td>SLACK</td>\n",
       "      <td>2004</td>\n",
       "      <td>0.10</td>\n",
       "      <td>5/31/2004</td>\n",
       "      <td>5/31/2004</td>\n",
       "      <td>Debris and open burning</td>\n",
       "      <td>38.984167</td>\n",
       "      <td>-120.735556</td>\n",
       "    </tr>\n",
       "    <tr>\n",
       "      <th>3</th>\n",
       "      <td>CA</td>\n",
       "      <td>3</td>\n",
       "      <td>DEER</td>\n",
       "      <td>2004</td>\n",
       "      <td>0.10</td>\n",
       "      <td>6/28/2004</td>\n",
       "      <td>7/3/2004</td>\n",
       "      <td>Natural</td>\n",
       "      <td>38.559167</td>\n",
       "      <td>-119.913333</td>\n",
       "    </tr>\n",
       "    <tr>\n",
       "      <th>4</th>\n",
       "      <td>CA</td>\n",
       "      <td>3</td>\n",
       "      <td>STEVENOT</td>\n",
       "      <td>2004</td>\n",
       "      <td>0.10</td>\n",
       "      <td>6/28/2004</td>\n",
       "      <td>7/3/2004</td>\n",
       "      <td>Natural</td>\n",
       "      <td>38.559167</td>\n",
       "      <td>-119.933056</td>\n",
       "    </tr>\n",
       "  </tbody>\n",
       "</table>\n",
       "</div>"
      ],
      "text/plain": [
       "  STATE COUNTY FIRE_NAME  FIRE_YEAR  FIRE_SIZE DISCOVERY_DATE  CONT_DATE  \\\n",
       "0    CA     63  FOUNTAIN       2005       0.10       2/2/2005   2/2/2005   \n",
       "1    CA     61    PIGEON       2004       0.25      5/12/2004  5/12/2004   \n",
       "2    CA     17     SLACK       2004       0.10      5/31/2004  5/31/2004   \n",
       "3    CA      3      DEER       2004       0.10      6/28/2004   7/3/2004   \n",
       "4    CA      3  STEVENOT       2004       0.10      6/28/2004   7/3/2004   \n",
       "\n",
       "                           NWCG_GENERAL_CAUSE   LATITUDE   LONGITUDE  \n",
       "0  Power generation/transmission/distribution  40.036944 -121.005833  \n",
       "1                                     Natural  38.933056 -120.404444  \n",
       "2                     Debris and open burning  38.984167 -120.735556  \n",
       "3                                     Natural  38.559167 -119.913333  \n",
       "4                                     Natural  38.559167 -119.933056  "
      ]
     },
     "execution_count": 6,
     "metadata": {},
     "output_type": "execute_result"
    }
   ],
   "source": [
    "#after an overview I would only like the columns pertaing to :  'STATE' 'COUNTY' 'FIRE_NAME''FIRE_YEAR' 'FIRE_SIZE'  'DISCOVERY_DATE' 'CONT_DATE' 'NWCG_GENERAL_CAUSE' 'LATITUDE', 'LONGITUDE' \n",
    "query= \"\"\"SELECT STATE, COUNTY, FIRE_NAME,FIRE_YEAR, FIRE_SIZE, DISCOVERY_DATE, CONT_DATE, NWCG_GENERAL_CAUSE, LATITUDE, LONGITUDE FROM 'Fires' \"\"\"\n",
    "df=pd.read_sql_query(query,conn)\n",
    "df.head()"
   ]
  },
  {
   "cell_type": "code",
   "execution_count": 21,
   "metadata": {},
   "outputs": [
    {
     "data": {
      "image/png": "[encoded data removed]",
      "text/plain": [
       "<Figure size 640x480 with 1 Axes>"
      ]
     },
     "metadata": {},
     "output_type": "display_data"
    }
   ],
   "source": [
    "import matplotlib.pyplot as plt\n",
    "\n",
    "df['FIRE_YEAR'].value_counts().sort_values().plot(kind='barh')\n",
    "plt.show()"
   ]
  },
  {
   "cell_type": "code",
   "execution_count": 20,
   "metadata": {},
   "outputs": [
    {
     "data": {
      "image/png": "[encoded data removed]",
      "text/plain": [
       "<Figure size 1000x800 with 1 Axes>"
      ]
     },
     "metadata": {},
     "output_type": "display_data"
    }
   ],
   "source": [
    "\n",
    "plt.figure(figsize=(10, 8))\n",
    "df['STATE'].value_counts().sort_values().plot(kind='barh')\n",
    "plt.show()"
   ]
  }
 ],
 "metadata": {
  "kernelspec": {
   "display_name": "dojo-env",
   "language": "python",
   "name": "python3"
  },
  "language_info": {
   "codemirror_mode": {
    "name": "ipython",
    "version": 3
   },
   "file_extension": ".py",
   "mimetype": "text/x-python",
   "name": "python",
   "nbconvert_exporter": "python",
   "pygments_lexer": "ipython3",
   "version": "3.9.15"
  }
 },
 "nbformat": 4,
 "nbformat_minor": 2
}
